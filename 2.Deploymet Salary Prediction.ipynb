{
 "cells": [
  {
   "cell_type": "code",
   "execution_count": 3,
   "id": "bb4a026c",
   "metadata": {},
   "outputs": [
    {
     "name": "stdout",
     "output_type": "stream",
     "text": [
      "Enter the Experience:0\n",
      "[[26777.3913412]]\n"
     ]
    },
    {
     "name": "stderr",
     "output_type": "stream",
     "text": [
      "C:\\Anaconda3\\Lib\\site-packages\\sklearn\\base.py:464: UserWarning: X does not have valid feature names, but LinearRegression was fitted with feature names\n",
      "  warnings.warn(\n"
     ]
    }
   ],
   "source": [
    "#import pickle library\n",
    "import pickle\n",
    "# load model using pickle library open the file name with read binary and the adress is load_model\n",
    "load_model=pickle.load(open(\"Salary_Pridiction_linear.sav\",'rb'))\n",
    "#getting input from user\n",
    "a=int(input(\"Enter the Experience:\"))\n",
    "#predict output in deployment stage by using loading address .predict(user input) and stored adress is FinalPrediction\n",
    "FinalPrediction=load_model.predict([[a]])\n",
    "#print the result\n",
    "print(FinalPrediction)"
   ]
  },
  {
   "cell_type": "code",
   "execution_count": null,
   "id": "49fa9723",
   "metadata": {},
   "outputs": [],
   "source": []
  }
 ],
 "metadata": {
  "kernelspec": {
   "display_name": "Python 3 (ipykernel)",
   "language": "python",
   "name": "python3"
  },
  "language_info": {
   "codemirror_mode": {
    "name": "ipython",
    "version": 3
   },
   "file_extension": ".py",
   "mimetype": "text/x-python",
   "name": "python",
   "nbconvert_exporter": "python",
   "pygments_lexer": "ipython3",
   "version": "3.11.5"
  }
 },
 "nbformat": 4,
 "nbformat_minor": 5
}
